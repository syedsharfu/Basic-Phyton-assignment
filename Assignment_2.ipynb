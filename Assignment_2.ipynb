{
 "cells": [
  {
   "cell_type": "raw",
   "id": "79ca8a44-2420-469a-b3c6-adfb4e9679e3",
   "metadata": {},
   "source": [
    "1.What are the two values of the Boolean data type? How do you write them?"
   ]
  },
  {
   "cell_type": "raw",
   "id": "6871b760-e4ae-4bb1-81e3-c6cf8f6d1138",
   "metadata": {},
   "source": [
    "The Boolean data type in Python has two values: True and False. These values represent the two possible truth values in logic and are used in Python for making logical decisions and comparisons.\n",
    "These Boolean values are often used in conditional statements, loops, and other control flow structures to make decisions based on logical conditions. For example:\n",
    "x = 5\n",
    "y = 10\n",
    "is_greater = (x > y)  # Evaluates to False\n",
    "is_equal = (x == y)   # Evaluates to False\n",
    "is_less = (x < y)     # Evaluates to True\n"
   ]
  },
  {
   "cell_type": "raw",
   "id": "7f465ee1-b3c3-4516-ab93-a8da526b93f4",
   "metadata": {},
   "source": [
    "2. What are the three different types of Boolean operators?"
   ]
  },
  {
   "cell_type": "raw",
   "id": "4f79bb87-8ea7-4a5a-b2cf-043cd6f41755",
   "metadata": {},
   "source": [
    "Boolean operators in Python are used to perform logical operations on Boolean values (True or False). There are three primary Boolean operators:\n",
    "and Operator:\n",
    "Returns True if both operands are True.\n",
    "Returns False otherwise.\n",
    "\n",
    "or Operator:\n",
    "Returns True if at least one of the operands is True.\n",
    "Returns False if both operands are False.\n",
    "\n",
    "not Operator:\n",
    "Returns the opposite Boolean value of the operand.\n",
    "If the operand is True, not returns False.\n",
    "If the operand is False, not returns True."
   ]
  },
  {
   "cell_type": "raw",
   "id": "832c50e5-8419-4460-8b3b-ce33988daf22",
   "metadata": {},
   "source": [
    "3. Make a list of each Boolean operator's truth tables (i.e. every possible combination of Boolean values for the operator and what it evaluate )."
   ]
  },
  {
   "cell_type": "raw",
   "id": "e37f5ebe-bbf2-4213-ad36-60e0c059b93a",
   "metadata": {},
   "source": [
    "Here are the truth tables for each Boolean operator:\n",
    "and Operator Truth Table:\n",
    "A\t       B\tA and B\n",
    "True\tTrue\tTrue\n",
    "True\tFalse\tFalse\n",
    "False\tTrue\tFalse\n",
    "False\tFalse\tFalse\n",
    "\n",
    "or Operator Truth Table:\n",
    "A\t       B\tA or B\n",
    "True\tTrue\tTrue\n",
    "True\tFalse\tTrue\n",
    "False\tTrue\tTrue\n",
    "False\tFalse\tFalse\n",
    "\n",
    "not Operator Truth Table:\n",
    "A\t    not A\n",
    "True\tFalse\n",
    "False\tTrue\n",
    "These truth tables show the result of applying each Boolean operator to different combinations of Boolean values. The tables indicate the output (True or False) based on the input values for each operator. Understanding these truth tables is essential for working with Boolean logic and making decisions in programming."
   ]
  },
  {
   "cell_type": "raw",
   "id": "a9b5c484-95cc-4c80-86e5-83f93e4acfa7",
   "metadata": {},
   "source": [
    "4. What are the values of the following expressions?\n",
    "(5 > 4) and (3 == 5)\n",
    "not (5 > 4)\n",
    "(5 > 4) or (3 == 5)\n",
    "not ((5 > 4) or (3 == 5))\n",
    "(True and True) and (True == False)\n",
    "(not False) or (not True)\n"
   ]
  },
  {
   "cell_type": "code",
   "execution_count": 2,
   "id": "1db11fa9-208a-4b62-ba52-00697a23a3f0",
   "metadata": {},
   "outputs": [
    {
     "data": {
      "text/plain": [
       "False"
      ]
     },
     "execution_count": 2,
     "metadata": {},
     "output_type": "execute_result"
    }
   ],
   "source": [
    "(5 > 4) and (3 == 5)"
   ]
  },
  {
   "cell_type": "code",
   "execution_count": 3,
   "id": "d75d56d9-2376-437e-8c10-bacf014817f9",
   "metadata": {},
   "outputs": [
    {
     "data": {
      "text/plain": [
       "False"
      ]
     },
     "execution_count": 3,
     "metadata": {},
     "output_type": "execute_result"
    }
   ],
   "source": [
    "not (5 > 4)\n"
   ]
  },
  {
   "cell_type": "code",
   "execution_count": 4,
   "id": "23191ac3-548d-4b1b-866c-e667525cef2b",
   "metadata": {},
   "outputs": [
    {
     "data": {
      "text/plain": [
       "True"
      ]
     },
     "execution_count": 4,
     "metadata": {},
     "output_type": "execute_result"
    }
   ],
   "source": [
    "(5 > 4) or (3 == 5)\n"
   ]
  },
  {
   "cell_type": "code",
   "execution_count": 5,
   "id": "2c2d09fe-e2d0-47ae-bd76-bf0c97e7b926",
   "metadata": {},
   "outputs": [
    {
     "data": {
      "text/plain": [
       "False"
      ]
     },
     "execution_count": 5,
     "metadata": {},
     "output_type": "execute_result"
    }
   ],
   "source": [
    "not ((5 > 4) or (3 == 5))"
   ]
  },
  {
   "cell_type": "code",
   "execution_count": 6,
   "id": "123c2938-3a8e-4485-a27a-c5adb84a4447",
   "metadata": {},
   "outputs": [
    {
     "data": {
      "text/plain": [
       "False"
      ]
     },
     "execution_count": 6,
     "metadata": {},
     "output_type": "execute_result"
    }
   ],
   "source": [
    "(True and True) and (True == False)"
   ]
  },
  {
   "cell_type": "code",
   "execution_count": 7,
   "id": "b6d161c4-ba9b-418b-9dea-3f701ca51362",
   "metadata": {},
   "outputs": [
    {
     "data": {
      "text/plain": [
       "True"
      ]
     },
     "execution_count": 7,
     "metadata": {},
     "output_type": "execute_result"
    }
   ],
   "source": [
    "(not False) or (not True)"
   ]
  },
  {
   "cell_type": "raw",
   "id": "b4444913-2573-4842-bdd9-ab1e4548c84f",
   "metadata": {},
   "source": [
    "5. What are the six comparison operators?"
   ]
  },
  {
   "cell_type": "raw",
   "id": "20829330-7af5-4406-baa7-d1f958d3e6dc",
   "metadata": {},
   "source": [
    "In Python, there are six comparison operators that allow you to compare values and create Boolean expressions. Here are the six comparison operators:\n",
    "Equal to (==): #Checks if two values are equal.\n",
    "Example: x == y\n",
    "\n",
    "Not equal to (!=): #Checks if two values are not equal.\n",
    "Example: x != y\n",
    "\n",
    "Greater than (>): #Checks if the left operand is greater than the right operand.\n",
    "Example: x > y\n",
    "\n",
    "Less than (<): #Checks if the left operand is less than the right operand.\n",
    "Example: x < y\n",
    "\n",
    "Greater than or equal to (>=): #Checks if the left operand is greater than or equal to the right operand.\n",
    "Example: x >= y\n",
    "\n",
    "Less than or equal to (<=): #Checks if the left operand is less than or equal to the right operand.\n",
    "Example: x <= y\n",
    "\n",
    "These operators are used to compare values and create conditions in control flow statements (such as if statements). The result of a comparison is a Boolean value (True or False)."
   ]
  },
  {
   "cell_type": "raw",
   "id": "93f119b5-2e3a-45b1-ae65-b0290ce3cee0",
   "metadata": {},
   "source": [
    "6. How do you tell the difference between the equal to and assignment operators?Describe a condition and when you would use one."
   ]
  },
  {
   "cell_type": "raw",
   "id": "2c0a1c22-826e-4da3-b5aa-404030297fca",
   "metadata": {},
   "source": [
    "In Python, the equal to operator (==) is used for comparison, checking whether two values are equal, while the assignment operator (=) is used to assign a value to a variable. The key difference is in their purposes and contexts.\n",
    "\n",
    "Suppose you want to check if a user input is equal to a predefined password. You would use the equal to operator in the condition:\n",
    "user_input = input(\"Enter the password: \")\n",
    "password = \"secure_password\"\n",
    "\n",
    "if user_input == password:\n",
    "    print(\"Access granted!\")\n",
    "else:\n",
    "    print(\"Access denied!\")\n",
    "In this example, the condition (user_input == password) uses the equal to operator to compare the user's input with the predefined password. If they match, the program prints \"Access granted!\"; otherwise, it prints \"Access denied!\".\n",
    "\n",
    "In summary, the equal to operator is used for comparisons in conditions, while the assignment operator is used for assigning values to variables. Understanding the context in which they are used helps differentiate their roles in Python code."
   ]
  },
  {
   "cell_type": "raw",
   "id": "4ccc377c-e4fb-4619-9580-49e01a3c2145",
   "metadata": {},
   "source": [
    "7. Identify the three blocks in this code:\n",
    "spam = 0\n",
    "if spam == 10:\n",
    "print('eggs')\n",
    "if spam > 5:\n",
    "print('bacon')\n",
    "else:\n",
    "print('ham')\n",
    "print('spam')\n",
    "print('spam')\n"
   ]
  },
  {
   "cell_type": "code",
   "execution_count": 11,
   "id": "792179bb-9e38-46cf-8514-349cf80ecb19",
   "metadata": {},
   "outputs": [
    {
     "name": "stdout",
     "output_type": "stream",
     "text": [
      "ham\n",
      "spam\n",
      "spam\n"
     ]
    }
   ],
   "source": [
    "spam = 0 # Block 1\n",
    "if spam == 10:  # Block 2\n",
    "    print('eggs')\n",
    "if spam > 5:  # Block 3\n",
    "    print('bacon')\n",
    "else:\n",
    "    print('ham')\n",
    "    print('spam')\n",
    "    print('spam')\n"
   ]
  },
  {
   "cell_type": "raw",
   "id": "bb5d5b54-887c-410a-83cf-cf5e9d627ce8",
   "metadata": {},
   "source": [
    "Block 1:\n",
    "\n",
    "Contains the assignment statement spam = 0.\n",
    "Block 2:\n",
    "\n",
    "Begins with the if spam == 10: statement and includes the indented line print('eggs').\n",
    "Block 3:\n",
    "\n",
    "Begins with the if spam > 5: statement and includes the indented line print('bacon').\n",
    "Also includes the else block, which contains the indented line print('ham')."
   ]
  },
  {
   "cell_type": "raw",
   "id": "4eb9896c-38ae-4259-88bd-8a5144e62d9d",
   "metadata": {},
   "source": [
    "8. Write code that prints Hello if 1 is stored in spam, prints Howdy if 2 is stored in spam, and prints Greetings! if anything else is stored in spam."
   ]
  },
  {
   "cell_type": "code",
   "execution_count": 12,
   "id": "731eb421-70ef-4071-bbc0-42f81416ace3",
   "metadata": {},
   "outputs": [
    {
     "name": "stdout",
     "output_type": "stream",
     "text": [
      "Hello\n"
     ]
    }
   ],
   "source": [
    "spam = 1 \n",
    "\n",
    "if spam == 1:\n",
    "    print('Hello')\n",
    "elif spam == 2:\n",
    "    print('Howdy')\n",
    "else:\n",
    "    print('Greetings!')\n"
   ]
  },
  {
   "cell_type": "raw",
   "id": "51cef951-21f9-4512-b5b4-5edfb3688b91",
   "metadata": {},
   "source": [
    "9.If your programme is stuck in an endless loop, what keys you’ll press?"
   ]
  },
  {
   "cell_type": "raw",
   "id": "bb6125eb-2c98-4379-8cdd-0736e1f91a0c",
   "metadata": {},
   "source": [
    "In Python, if your program is stuck in an endless loop, you can use the keyboard interrupt signal to stop the execution. The key combination is:\n",
    "Ctrl + C (press and hold the \"Ctrl\" key and then press the \"C\" key)"
   ]
  },
  {
   "cell_type": "raw",
   "id": "03e9b80d-f831-48b2-bdf0-aa681153b228",
   "metadata": {},
   "source": [
    "10. How can you tell the difference between break and continue?"
   ]
  },
  {
   "cell_type": "raw",
   "id": "28f67a51-c0cf-4c1c-bace-15901b7a2e68",
   "metadata": {},
   "source": [
    "In Python, break and continue are two keywords used in loops to control the flow of execution. They serve different purposes:\n",
    "break: The break statement is used to exit (terminate) the loop prematurely.\n",
    "When break is encountered within a loop, the loop is immediately terminated, and the program continues with the next statement after the loop.\n",
    "\n",
    "continue: The continue statement is used to skip the rest of the code inside the loop for the current iteration and jump to the next iteration.\n",
    "When continue is encountered, the remaining code within the loop for the current iteration is skipped, and the loop moves to the next iteration."
   ]
  },
  {
   "cell_type": "raw",
   "id": "81112eca-d0d2-4486-a5f2-09a32bb1aaaa",
   "metadata": {},
   "source": [
    "11. In a for loop, what is the difference between range(10), range(0, 10), and range(0, 10, 1)?"
   ]
  },
  {
   "cell_type": "code",
   "execution_count": 13,
   "id": "86eafc3f-7028-425a-ba74-fbf3443736c4",
   "metadata": {},
   "outputs": [
    {
     "name": "stdout",
     "output_type": "stream",
     "text": [
      "0\n",
      "1\n",
      "2\n",
      "3\n",
      "4\n",
      "5\n",
      "6\n",
      "7\n",
      "8\n",
      "9\n"
     ]
    }
   ],
   "source": [
    "#range(10): This generates a sequence of numbers from 0 to 9 (10 exclusive) with a default step of 1.\n",
    "#The starting value is implicitly assumed to be 0, and the step is implicitly assumed to be 1 if not specified.\n",
    "for i in range(10):\n",
    "    print(i)\n"
   ]
  },
  {
   "cell_type": "code",
   "execution_count": 14,
   "id": "52c86193-77e8-4fc2-985e-9a1261ad8d46",
   "metadata": {},
   "outputs": [
    {
     "name": "stdout",
     "output_type": "stream",
     "text": [
      "0\n",
      "1\n",
      "2\n",
      "3\n",
      "4\n",
      "5\n",
      "6\n",
      "7\n",
      "8\n",
      "9\n"
     ]
    }
   ],
   "source": [
    "#range(0, 10): This is equivalent to range(10). It explicitly specifies the starting value (0), but the step is still implicitly assumed to be 1.\n",
    "\n",
    "for i in range(0, 10):\n",
    "    print(i)\n"
   ]
  },
  {
   "cell_type": "code",
   "execution_count": 15,
   "id": "7fabd57d-a6ec-4e14-af45-6af65c5d3c72",
   "metadata": {},
   "outputs": [
    {
     "name": "stdout",
     "output_type": "stream",
     "text": [
      "0\n",
      "1\n",
      "2\n",
      "3\n",
      "4\n",
      "5\n",
      "6\n",
      "7\n",
      "8\n",
      "9\n"
     ]
    }
   ],
   "source": [
    "#range(0, 10, 1): This is also equivalent to range(10). It explicitly specifies both the starting value (0) and the step (1).\n",
    "for i in range(0, 10, 1):\n",
    "    print(i)\n"
   ]
  },
  {
   "cell_type": "raw",
   "id": "612293f8-e1fd-4362-bb23-d190a24ae0f1",
   "metadata": {},
   "source": [
    "12. Write a short program that prints the numbers 1 to 10 using a for loop. Then write an equivalent program that prints the numbers 1 to 10 using a while loop."
   ]
  },
  {
   "cell_type": "code",
   "execution_count": 16,
   "id": "cfb442e1-da41-47ce-b58a-57282bb235a7",
   "metadata": {},
   "outputs": [
    {
     "name": "stdout",
     "output_type": "stream",
     "text": [
      "1\n",
      "2\n",
      "3\n",
      "4\n",
      "5\n",
      "6\n",
      "7\n",
      "8\n",
      "9\n",
      "10\n"
     ]
    }
   ],
   "source": [
    "#Here's a short program using a for loop to print the numbers 1 to 10\n",
    "# Using a for loop\n",
    "for i in range(1, 11):\n",
    "    print(i)\n"
   ]
  },
  {
   "cell_type": "code",
   "execution_count": 17,
   "id": "db49d429-aed7-4f2e-9dfe-ae7bd6263146",
   "metadata": {},
   "outputs": [
    {
     "name": "stdout",
     "output_type": "stream",
     "text": [
      "1\n",
      "2\n",
      "3\n",
      "4\n",
      "5\n",
      "6\n",
      "7\n",
      "8\n",
      "9\n",
      "10\n"
     ]
    }
   ],
   "source": [
    "#And here's an equivalent program using a while loop:\n",
    "# Using a while loop\n",
    "counter = 1\n",
    "while counter <= 10:\n",
    "    print(counter)\n",
    "    counter += 1\n"
   ]
  },
  {
   "cell_type": "raw",
   "id": "401f9638-6f7d-4112-b63b-8f2376344abf",
   "metadata": {},
   "source": [
    "13. If you had a function named bacon() inside a module named spam, how would you call it after importing spam?"
   ]
  },
  {
   "cell_type": "raw",
   "id": "17338ba0-945f-4a17-a9cb-0ee0827e81e8",
   "metadata": {},
   "source": [
    "If you have a function named bacon() inside a module named spam, you can call it after importing the spam module using the following syntax:\n",
    "import spam\n",
    "\n",
    "spam.bacon()\n"
   ]
  },
  {
   "cell_type": "code",
   "execution_count": null,
   "id": "dad49c96-5120-4618-af2f-939b0455a0b9",
   "metadata": {},
   "outputs": [],
   "source": []
  }
 ],
 "metadata": {
  "kernelspec": {
   "display_name": "Python 3 (ipykernel)",
   "language": "python",
   "name": "python3"
  },
  "language_info": {
   "codemirror_mode": {
    "name": "ipython",
    "version": 3
   },
   "file_extension": ".py",
   "mimetype": "text/x-python",
   "name": "python",
   "nbconvert_exporter": "python",
   "pygments_lexer": "ipython3",
   "version": "3.10.6"
  }
 },
 "nbformat": 4,
 "nbformat_minor": 5
}
